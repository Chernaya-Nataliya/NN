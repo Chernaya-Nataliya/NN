{
 "cells": [
  {
   "cell_type": "markdown",
   "metadata": {},
   "source": [
    "С использованием dropout регуляризации"
   ]
  },
  {
   "cell_type": "code",
   "execution_count": 1,
   "metadata": {},
   "outputs": [],
   "source": [
    "import numpy as np\n",
    "import pandas as pd\n",
    "import mnist\n",
    "import keras\n",
    "from keras.datasets import mnist\n",
    "from keras.models import Sequential\n",
    "from keras.layers import Dense, Flatten, Dropout\n",
    "from keras.utils import to_categorical\n",
    "from sklearn.model_selection import train_test_split"
   ]
  },
  {
   "cell_type": "markdown",
   "metadata": {},
   "source": [
    "Загрузка набора данных MNIST"
   ]
  },
  {
   "cell_type": "code",
   "execution_count": 2,
   "metadata": {},
   "outputs": [],
   "source": [
    "(train_images, train_labels), (test_images, test_labels) = mnist.load_data()"
   ]
  },
  {
   "cell_type": "markdown",
   "metadata": {},
   "source": [
    "Нормализация изображений."
   ]
  },
  {
   "cell_type": "code",
   "execution_count": 3,
   "metadata": {},
   "outputs": [],
   "source": [
    "train_images = train_images / 255.0\n",
    "test_images = test_images / 255.0"
   ]
  },
  {
   "cell_type": "markdown",
   "metadata": {},
   "source": [
    "Преобразование меток в one-hot encoding"
   ]
  },
  {
   "cell_type": "code",
   "execution_count": 4,
   "metadata": {},
   "outputs": [],
   "source": [
    "train_labels = to_categorical(train_labels)\n",
    "test_labels = to_categorical(test_labels)"
   ]
  },
  {
   "cell_type": "markdown",
   "metadata": {},
   "source": [
    "Создание модели с регуляризацией dropout"
   ]
  },
  {
   "cell_type": "code",
   "execution_count": 6,
   "metadata": {},
   "outputs": [],
   "source": [
    "def create_model_with_dropout():\n",
    "    model = Sequential([\n",
    "        Flatten(input_shape=(28, 28)),  \n",
    "        Dense(128, activation='relu'),\n",
    "        Dropout(0.5),  # Отсев с коэффициентом 0,5\n",
    "        Dense(64, activation='relu'),\n",
    "        Dropout(0.5), \n",
    "        Dense(10, activation='softmax')\n",
    "    ])\n",
    "    model.compile(optimizer='adam',\n",
    "                  loss='categorical_crossentropy',\n",
    "                  metrics=['accuracy'])\n",
    "    return model"
   ]
  },
  {
   "cell_type": "markdown",
   "metadata": {},
   "source": [
    "Создание, обучение и оценка модели"
   ]
  },
  {
   "cell_type": "code",
   "execution_count": 7,
   "metadata": {},
   "outputs": [
    {
     "name": "stdout",
     "output_type": "stream",
     "text": [
      "Epoch 1/10\n",
      "750/750 [==============================] - 3s 3ms/step - loss: 0.6948 - accuracy: 0.7826 - val_loss: 0.2175 - val_accuracy: 0.9388\n",
      "Epoch 2/10\n",
      "750/750 [==============================] - 2s 3ms/step - loss: 0.3599 - accuracy: 0.8975 - val_loss: 0.1710 - val_accuracy: 0.9507\n",
      "Epoch 3/10\n",
      "750/750 [==============================] - 2s 3ms/step - loss: 0.2924 - accuracy: 0.9181 - val_loss: 0.1471 - val_accuracy: 0.9600\n",
      "Epoch 4/10\n",
      "750/750 [==============================] - 2s 3ms/step - loss: 0.2622 - accuracy: 0.9263 - val_loss: 0.1384 - val_accuracy: 0.9625\n",
      "Epoch 5/10\n",
      "750/750 [==============================] - 2s 3ms/step - loss: 0.2337 - accuracy: 0.9333 - val_loss: 0.1208 - val_accuracy: 0.9675\n",
      "Epoch 6/10\n",
      "750/750 [==============================] - 2s 3ms/step - loss: 0.2172 - accuracy: 0.9385 - val_loss: 0.1205 - val_accuracy: 0.9676\n",
      "Epoch 7/10\n",
      "750/750 [==============================] - 2s 3ms/step - loss: 0.2102 - accuracy: 0.9401 - val_loss: 0.1200 - val_accuracy: 0.9660\n",
      "Epoch 8/10\n",
      "750/750 [==============================] - 2s 3ms/step - loss: 0.1959 - accuracy: 0.9456 - val_loss: 0.1137 - val_accuracy: 0.9667\n",
      "Epoch 9/10\n",
      "750/750 [==============================] - 2s 3ms/step - loss: 0.1872 - accuracy: 0.9466 - val_loss: 0.1190 - val_accuracy: 0.9681\n",
      "Epoch 10/10\n",
      "750/750 [==============================] - 2s 3ms/step - loss: 0.1790 - accuracy: 0.9491 - val_loss: 0.1106 - val_accuracy: 0.9690\n",
      "313/313 [==============================] - 0s 1ms/step - loss: 0.1046 - accuracy: 0.9679\n"
     ]
    }
   ],
   "source": [
    "model_with_dropout = create_model_with_dropout()\n",
    "history_with_dropout = model_with_dropout.fit(train_images, train_labels, epochs=10, batch_size=64, validation_split=0.2)\n",
    "\n",
    "test_loss_dropout, test_accuracy_dropout = model_with_dropout.evaluate(test_images, test_labels)"
   ]
  },
  {
   "cell_type": "markdown",
   "metadata": {},
   "source": [
    "Вывод результатов"
   ]
  },
  {
   "cell_type": "code",
   "execution_count": 9,
   "metadata": {},
   "outputs": [
    {
     "name": "stdout",
     "output_type": "stream",
     "text": [
      "Модель с регуляризацией dropout:\n",
      "Точность теста: 0.9678999781608582\n"
     ]
    }
   ],
   "source": [
    "print(\"Модель с регуляризацией dropout:\")\n",
    "print(f\"Точность теста: {test_accuracy_dropout}\")"
   ]
  },
  {
   "cell_type": "markdown",
   "metadata": {},
   "source": [
    "Вывод: модель с регуляризацией dropout хорошо обучена и демонстрирует высокую производительность на тестовых данных. Регуляризация dropout помогает предотвратить переобучение модели, что в свою очередь приводит к более обобщающей способности модели. Таким образом, модель с регуляризацией dropout показывает хорошую устойчивость и точность на новых данных"
   ]
  }
 ],
 "metadata": {
  "kernelspec": {
   "display_name": "Python 3",
   "language": "python",
   "name": "python3"
  },
  "language_info": {
   "codemirror_mode": {
    "name": "ipython",
    "version": 3
   },
   "file_extension": ".py",
   "mimetype": "text/x-python",
   "name": "python",
   "nbconvert_exporter": "python",
   "pygments_lexer": "ipython3",
   "version": "3.11.4"
  }
 },
 "nbformat": 4,
 "nbformat_minor": 2
}
