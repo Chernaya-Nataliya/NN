{
 "cells": [
  {
   "cell_type": "markdown",
   "metadata": {},
   "source": [
    "С использованием dropout регуляризации"
   ]
  },
  {
   "cell_type": "code",
   "execution_count": 3,
   "metadata": {},
   "outputs": [
    {
     "name": "stdout",
     "output_type": "stream",
     "text": [
      "Epoch 1/10\n",
      "750/750 [==============================] - 6s 6ms/step - loss: 0.7157 - accuracy: 0.7763 - val_loss: 0.2226 - val_accuracy: 0.9358\n",
      "Epoch 2/10\n",
      "750/750 [==============================] - 3s 3ms/step - loss: 0.3611 - accuracy: 0.9005 - val_loss: 0.1745 - val_accuracy: 0.9512\n",
      "Epoch 3/10\n",
      "750/750 [==============================] - 2s 3ms/step - loss: 0.3047 - accuracy: 0.9159 - val_loss: 0.1599 - val_accuracy: 0.9562\n",
      "Epoch 4/10\n",
      "750/750 [==============================] - 2s 3ms/step - loss: 0.2685 - accuracy: 0.9254 - val_loss: 0.1386 - val_accuracy: 0.9615\n",
      "Epoch 5/10\n",
      "750/750 [==============================] - 3s 3ms/step - loss: 0.2426 - accuracy: 0.9332 - val_loss: 0.1324 - val_accuracy: 0.9633\n",
      "Epoch 6/10\n",
      "750/750 [==============================] - 2s 3ms/step - loss: 0.2239 - accuracy: 0.9382 - val_loss: 0.1224 - val_accuracy: 0.9663\n",
      "Epoch 7/10\n",
      "750/750 [==============================] - 3s 3ms/step - loss: 0.2134 - accuracy: 0.9399 - val_loss: 0.1174 - val_accuracy: 0.9678\n",
      "Epoch 8/10\n",
      "750/750 [==============================] - 3s 3ms/step - loss: 0.2042 - accuracy: 0.9437 - val_loss: 0.1174 - val_accuracy: 0.9672\n",
      "Epoch 9/10\n",
      "750/750 [==============================] - 3s 3ms/step - loss: 0.1903 - accuracy: 0.9463 - val_loss: 0.1142 - val_accuracy: 0.9692\n",
      "Epoch 10/10\n",
      "750/750 [==============================] - 3s 4ms/step - loss: 0.1841 - accuracy: 0.9477 - val_loss: 0.1172 - val_accuracy: 0.9687\n",
      "313/313 [==============================] - 1s 2ms/step - loss: 0.1138 - accuracy: 0.9681\n",
      "Модель с регуляризацией отсева:\n",
      "Точность теста: 0.9681000113487244\n"
     ]
    }
   ],
   "source": [
    "import numpy as np\n",
    "import pandas as pd\n",
    "import mnist\n",
    "import keras\n",
    "from keras.datasets import mnist\n",
    "from keras.models import Sequential\n",
    "from keras.layers import Dense, Flatten, Dropout\n",
    "from keras.utils import to_categorical\n",
    "from sklearn.model_selection import train_test_split\n",
    "\n",
    "\n",
    "(train_images, train_labels), (test_images, test_labels) = mnist.load_data()\n",
    "\n",
    "train_images = train_images / 255.0\n",
    "test_images = test_images / 255.0\n",
    "\n",
    "train_labels = to_categorical(train_labels)\n",
    "test_labels = to_categorical(test_labels)\n",
    "\n",
    "# Создание модели с регуляризацией отсева\n",
    "def create_model_with_dropout():\n",
    "    model = Sequential([\n",
    "        Flatten(input_shape=(28, 28)),  \n",
    "        Dense(128, activation='relu'),\n",
    "        Dropout(0.5),  # Отсев с коэффициентом 0,5\n",
    "        Dense(64, activation='relu'),\n",
    "        Dropout(0.5), \n",
    "        Dense(10, activation='softmax')\n",
    "    ])\n",
    "    model.compile(optimizer='adam',\n",
    "                  loss='categorical_crossentropy',\n",
    "                  metrics=['accuracy'])\n",
    "    return model\n",
    "\n",
    "\n",
    "model_with_dropout = create_model_with_dropout()\n",
    "history_with_dropout = model_with_dropout.fit(train_images, train_labels, epochs=10, batch_size=64, validation_split=0.2)\n",
    "\n",
    "\n",
    "test_loss_dropout, test_accuracy_dropout = model_with_dropout.evaluate(test_images, test_labels)\n",
    "\n",
    "print(\"Модель с регуляризацией отсева:\")\n",
    "print(f\"Точность теста: {test_accuracy_dropout}\")\n"
   ]
  }
 ],
 "metadata": {
  "kernelspec": {
   "display_name": "Python 3",
   "language": "python",
   "name": "python3"
  },
  "language_info": {
   "codemirror_mode": {
    "name": "ipython",
    "version": 3
   },
   "file_extension": ".py",
   "mimetype": "text/x-python",
   "name": "python",
   "nbconvert_exporter": "python",
   "pygments_lexer": "ipython3",
   "version": "3.11.4"
  }
 },
 "nbformat": 4,
 "nbformat_minor": 2
}
